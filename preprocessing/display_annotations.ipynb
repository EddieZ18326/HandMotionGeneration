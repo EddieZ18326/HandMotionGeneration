{
 "cells": [
  {
   "cell_type": "code",
   "execution_count": 2,
   "id": "3a8c3203",
   "metadata": {},
   "outputs": [
    {
     "name": "stdout",
     "output_type": "stream",
     "text": [
      "Failed to open video: /Users/eddie/Downloads/videos/videos\\P01_04.mp4\n"
     ]
    }
   ],
   "source": [
    "import os\n",
    "import cv2\n",
    "import json\n",
    "\n",
    "def load_annotations_for_frame(ann_folder, frame_index):\n",
    "    print(ann_folder)\n",
    "    ann_file = os.path.join(ann_folder, \"frame_\" + f\"{frame_index:06d}.json\")\n",
    "    print(ann_file)\n",
    "    if not os.path.exists(ann_file):\n",
    "        print(\"here\")\n",
    "        return []\n",
    "\n",
    "    with open(ann_file, 'r') as f:\n",
    "        data = json.load(f)\n",
    "\n",
    "    bboxes = []\n",
    "    for ann in data.get(\"annotations\", []):\n",
    "        bbox = ann.get(\"bbox\", [])\n",
    "        if len(bbox) == 4:\n",
    "            bboxes.append(bbox)\n",
    "    return bboxes\n",
    "\n",
    "def play_video_with_annotations(video_path, annotations_folder):\n",
    "    cap = cv2.VideoCapture(video_path)\n",
    "    frame_index = 0\n",
    "\n",
    "    if not cap.isOpened():\n",
    "        print(f\"Failed to open video: {video_path}\")\n",
    "        return\n",
    "\n",
    "    while True:\n",
    "        ret, frame = cap.read()\n",
    "        if not ret:\n",
    "            break\n",
    "\n",
    "        bboxes = load_annotations_for_frame(annotations_folder, frame_index)\n",
    "        print(bboxes)\n",
    "        for bbox in bboxes:\n",
    "            x, y, w, h = map(int, bbox)\n",
    "            cv2.rectangle(frame, (x, y), (x+w, y+h), color=(0, 255, 0), thickness=2)\n",
    "\n",
    "        cv2.imshow(\"Video with Hand Detection\", frame)\n",
    "        key = cv2.waitKey(30)  \n",
    "        if key == ord('q'):\n",
    "            break\n",
    "\n",
    "        frame_index += 1\n",
    "\n",
    "    cap.release()\n",
    "    cv2.destroyAllWindows()\n",
    "\n",
    "if __name__ == \"__main__\":\n",
    "    video = \"P01_04\"\n",
    "    videos_dir = \"/Users/eddie/Downloads/videos/videos\"\n",
    "    annotations_dir = \"/Users/eddie/Trauma_THOMPSON/Trauma_THOMPSON/Hand Tracking Dataset/Hand Tracking Dataset/test/\" + video + \"/\" + video + \"/\"\n",
    "    video_name = video + \".mp4\"\n",
    "\n",
    "    video_path = os.path.join(videos_dir, video_name)\n",
    "    annotation_folder = annotations_dir\n",
    "\n",
    "    play_video_with_annotations(video_path, annotation_folder)\n",
    "\n"
   ]
  },
  {
   "cell_type": "code",
   "execution_count": 2,
   "id": "49ffbb3c",
   "metadata": {},
   "outputs": [
    {
     "name": "stdout",
     "output_type": "stream",
     "text": [
      "Number of CUDA devices: 1\n",
      "Device 0: NVIDIA GeForce RTX 4080 SUPER\n"
     ]
    }
   ],
   "source": [
    "import torch\n",
    "\n",
    "if torch.cuda.is_available():\n",
    "    print(f\"Number of CUDA devices: {torch.cuda.device_count()}\")\n",
    "    for i in range(torch.cuda.device_count()):\n",
    "        print(f\"Device {i}: {torch.cuda.get_device_name(i)}\")\n",
    "else:\n",
    "    print(\"CUDA is not available.\")"
   ]
  }
 ],
 "metadata": {
  "kernelspec": {
   "display_name": "Telementoring",
   "language": "python",
   "name": "python3"
  },
  "language_info": {
   "codemirror_mode": {
    "name": "ipython",
    "version": 3
   },
   "file_extension": ".py",
   "mimetype": "text/x-python",
   "name": "python",
   "nbconvert_exporter": "python",
   "pygments_lexer": "ipython3",
   "version": "3.10.18"
  }
 },
 "nbformat": 4,
 "nbformat_minor": 5
}

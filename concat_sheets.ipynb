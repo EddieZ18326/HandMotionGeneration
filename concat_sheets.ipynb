{
 "cells": [
  {
   "cell_type": "code",
   "execution_count": 3,
   "id": "1a1586fd",
   "metadata": {},
   "outputs": [
    {
     "name": "stdout",
     "output_type": "stream",
     "text": [
      "Combined 19 files into 'combined.csv'\n"
     ]
    }
   ],
   "source": [
    "import pandas as pd\n",
    "import glob\n",
    "import os\n",
    "\n",
    "# path to your folder (adjust as needed)\n",
    "folder_path = \"train_10_text\"\n",
    "\n",
    "# find all CSV files in that folder\n",
    "files = glob.glob(os.path.join(folder_path, \"*.csv\"))\n",
    "\n",
    "# read them all into a list of DataFrames\n",
    "dfs = [pd.read_csv(f) for f in files]\n",
    "\n",
    "# concatenate them vertically into one big DataFrame\n",
    "combined = pd.concat(dfs, ignore_index=True)\n",
    "\n",
    "# save to a new CSV file\n",
    "combined.to_csv(\"combined_10.csv\", index=False)\n",
    "\n",
    "print(f\"Combined {len(files)} files into 'combined.csv'\")\n"
   ]
  }
 ],
 "metadata": {
  "kernelspec": {
   "display_name": "Telementoring",
   "language": "python",
   "name": "python3"
  },
  "language_info": {
   "codemirror_mode": {
    "name": "ipython",
    "version": 3
   },
   "file_extension": ".py",
   "mimetype": "text/x-python",
   "name": "python",
   "nbconvert_exporter": "python",
   "pygments_lexer": "ipython3",
   "version": "3.10.18"
  }
 },
 "nbformat": 4,
 "nbformat_minor": 5
}
